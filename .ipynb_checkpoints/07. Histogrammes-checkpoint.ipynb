{
 "cells": [
  {
   "cell_type": "markdown",
   "metadata": {},
   "source": [
    "# Histogrammes"
   ]
  },
  {
   "cell_type": "code",
   "execution_count": 2,
   "metadata": {},
   "outputs": [],
   "source": [
    "%matplotlib inline\n",
    "import matplotlib.pyplot as plt\n",
    "import numpy as np"
   ]
  },
  {
   "cell_type": "markdown",
   "metadata": {},
   "source": [
    "> La méthode `plt.hist` permet d'afficher des histogrammes, en lui donnant en arguments:\n",
    ">\n",
    "> - une série de valeurs `x`\n",
    "> - les bornes des valeurs à utiliser (`range`, par défaut `(min(x), max(x))`)\n",
    "> - le nombre d'intervalles (`bins`) ou les limites explicites des intervalles.\n",
    "> \n",
    "> Dans le cas où le nombre d'intervalles est le seul élément renseigné, ceux-ci seront de tailles égales, mais des intervalles de tailles différentes sont possibles lorsqu'ils sont renseignés explicitement.\n",
    "> \n",
    "> Exemple : \n",
    "> \n",
    "> `plt.hist([0,1,1, 2, 2, 2, 3, 4, 4, 4, 4, 4, 5, 5], range=(0, 6), bins = 6)`"
   ]
  },
  {
   "cell_type": "code",
   "execution_count": 5,
   "metadata": {},
   "outputs": [
    {
     "data": {
      "image/png": "[encoded data removed]",
      "text/plain": [
       "<Figure size 432x288 with 1 Axes>"
      ]
     },
     "metadata": {
      "needs_background": "light"
     },
     "output_type": "display_data"
    }
   ],
   "source": [
    "plt.hist([0,1,1, 2, 2, 2, 3, 4, 4, 4, 4, 4, 5, 5], range=(0, 6), bins = 6);"
   ]
  },
  {
   "cell_type": "markdown",
   "metadata": {},
   "source": [
    "ou encore :"
   ]
  },
  {
   "cell_type": "code",
   "execution_count": 7,
   "metadata": {},
   "outputs": [
    {
     "data": {
      "image/png": "[encoded data removed]",
      "text/plain": [
       "<Figure size 432x288 with 1 Axes>"
      ]
     },
     "metadata": {
      "needs_background": "light"
     },
     "output_type": "display_data"
    }
   ],
   "source": [
    "plt.hist([0,8,10,13,15,16,16,18,32,36,39,40,43,45,48,49], bins = [0,10,20,40,50]); "
   ]
  },
  {
   "cell_type": "markdown",
   "metadata": {},
   "source": [
    "- Créer un histogramme à partir de 30 nombres choisis au hasard entre 0 et 10, grâce à la fonction `np.random.choice`, composé de 7 intervalles, et de couleur orange."
   ]
  },
  {
   "cell_type": "code",
   "execution_count": 9,
   "metadata": {},
   "outputs": [
    {
     "data": {
      "image/png": "[encoded data removed]",
      "text/plain": [
       "<Figure size 432x288 with 1 Axes>"
      ]
     },
     "metadata": {
      "needs_background": "light"
     },
     "output_type": "display_data"
    }
   ],
   "source": [
    "x = np.random.choice(11,30)\n",
    "plt.hist(x, bins=7, color='orange')\n",
    "plt.show()"
   ]
  },
  {
   "cell_type": "markdown",
   "metadata": {},
   "source": [
    "> Il est possible d'afficher les fréquences plutôt que les nombres en ordonnées en ajoutant le paramètre `density=True`.\n",
    "> \n",
    "> L'ajout de `orientation='horizontal'` permet de tracer un histogramme horizontal.\n",
    ">\n",
    "> `rwidth` permet de réduire la largeur des barres avec un espace entre elles (pourcentage entre 0 et 1)."
   ]
  },
  {
   "cell_type": "code",
   "execution_count": 13,
   "metadata": {},
   "outputs": [
    {
     "data": {
      "image/png": "[encoded data removed]",
      "text/plain": [
       "<Figure size 432x288 with 1 Axes>"
      ]
     },
     "metadata": {
      "needs_background": "light"
     },
     "output_type": "display_data"
    }
   ],
   "source": [
    "x = [1, 2, 2, 3, 4, 4, 4, 4, 4, 5, 5]\n",
    "plt.hist(x, bins=5, rwidth=0.6, color='yellow', orientation='horizontal', density='True', edgecolor='red', range=(1,6))\n",
    "plt.xlabel('Frequences')\n",
    "plt.ylabel('Valeurs')\n",
    "plt.title('Histogramme Horizontal')\n",
    "plt.show()"
   ]
  },
  {
   "cell_type": "markdown",
   "metadata": {},
   "source": [
    "> Comme pour les bar plots il est possible d'afficher plusieurs historiques sur le même graphique, côte à côte ou superposés, en passant comme argument une liste de séries de valeurs. Pour un histogramme avec les séries de valeurs superposées il suffit de rajouter en paramètre `histtype='barstacked'`.\n",
    "\n",
    "- Créer des intervalles tous les `x+0.5` où `x` prend les valeurs de 0 à 5.\n",
    "- Créer un histogramme des séries de valeurs `x1`, `x2`, `x3` ci-dessous, dont les barres sont de couleurs `'#399619'`, `'#961939'` et `'#193996'`, hachurés avec `'/'`, et avec les labels `'x1'`, `'x2'`, `'x3'`\n",
    "```\n",
    "x1 = [1, 2, 2, 3, 4, 4, 4, 4, 4, 5, 5]\n",
    "x2 = [1, 1, 1, 2, 2, 3, 3, 3, 3, 4, 5, 5, 5]\n",
    "x3 = [2, 3, 1, 3, 1, 4, 1, 5, 2]\n",
    "```\n",
    "- Donner au graphique le titre `Histogramme à trois series`, à l'axe des abscisses le label `nombres` et à l'axe des ordonnées le label `valeurs`.\n",
    "- Afficher les légendes sur le graphique."
   ]
  },
  {
   "cell_type": "code",
   "execution_count": 14,
   "metadata": {},
   "outputs": [
    {
     "data": {
      "image/png": "[encoded data removed]",
      "text/plain": [
       "<Figure size 432x288 with 1 Axes>"
      ]
     },
     "metadata": {
      "needs_background": "light"
     },
     "output_type": "display_data"
    }
   ],
   "source": [
    "## Création de x1, x2, x3\n",
    "x1 = [1, 2, 2, 3, 4, 4, 4, 4, 4, 5, 5]\n",
    "x2 = [1, 1, 1, 2, 2, 3, 3, 3, 3, 4, 5, 5, 5]\n",
    "x3 = [2, 3, 1, 3, 1, 4, 1, 5, 2]\n",
    "\n",
    "## Insérez votre code ici\n",
    "plt.hist([x1, x2, x3], bins=[x+0.5 for x in range(6)], color=['#399619', '#961939', '#193996'], label=['x1', 'x2', 'x3'], hatch='/')\n",
    "plt.legend()\n",
    "plt.xlabel('Nombres')\n",
    "plt.ylabel('Valeurs')\n",
    "plt.title('Histogramme 3 series')\n",
    "plt.show()"
   ]
  },
  {
   "cell_type": "markdown",
   "metadata": {},
   "source": [
    "- Créer des intervalles tous les `x+0.5` où `x` prend les valeurs de 0 à 5.\n",
    "- Créer un histogramme des séries de valeurs `x1` et `x2` ci-dessous, superposées, dont les barres sont de couleurs `'#961939'`, `'#193996'`, avec les labels `'x1'` et `'x2'`.\n",
    "```\n",
    "x1 = [1, 2, 2, 3, 4, 4, 4, 4, 4, 5, 5]\n",
    "x2 = [1, 1, 1, 2, 2, 3, 3, 3, 3, 4, 5, 5, 5]\n",
    "```\n",
    "- Donner au graphique le titre `Deux séries superposées`, à l'axe des abscisses le label `nombres` et à l'axe des ordonnées le label `valeurs`.\n",
    "- Afficher les légendes sur le graphique."
   ]
  },
  {
   "cell_type": "code",
   "execution_count": 15,
   "metadata": {},
   "outputs": [
    {
     "data": {
      "image/png": "[encoded data removed]",
      "text/plain": [
       "<Figure size 432x288 with 1 Axes>"
      ]
     },
     "metadata": {
      "needs_background": "light"
     },
     "output_type": "display_data"
    }
   ],
   "source": [
    "## Création de x1, x2\n",
    "x1 = [1, 2, 2, 3, 4, 4, 4, 4, 4, 5, 5]\n",
    "x2 = [1, 1, 1, 2, 2, 3, 3, 3, 3, 4, 5, 5, 5]\n",
    "\n",
    "## Insérez votre code ici\n",
    "## Insérez votre code ici\n",
    "plt.hist([x1, x2],  histtype = 'barstacked', bins=[x+0.5 for x in range(6)], color=['#961939', '#193996'], label=['x1', 'x2'], rwidth=0.6)\n",
    "plt.legend()\n",
    "plt.xlabel('Nombres')\n",
    "plt.ylabel('Valeurs')\n",
    "plt.title('2 series superposees')\n",
    "plt.show()"
   ]
  },
  {
   "cell_type": "code",
   "execution_count": null,
   "metadata": {},
   "outputs": [],
   "source": []
  }
 ],
 "metadata": {
  "kernelspec": {
   "display_name": "Python 3",
   "language": "python",
   "name": "python3"
  },
  "language_info": {
   "codemirror_mode": {
    "name": "ipython",
    "version": 3
   },
   "file_extension": ".py",
   "mimetype": "text/x-python",
   "name": "python",
   "nbconvert_exporter": "python",
   "pygments_lexer": "ipython3",
   "version": "3.6.8"
  }
 },
 "nbformat": 4,
 "nbformat_minor": 2
}
