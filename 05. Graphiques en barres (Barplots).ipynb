{
 "cells": [
  {
   "cell_type": "markdown",
   "metadata": {},
   "source": [
    "# Graphiques en barres (Barplots)"
   ]
  },
  {
   "cell_type": "code",
   "execution_count": 1,
   "metadata": {},
   "outputs": [],
   "source": [
    "%matplotlib inline\n",
    "import matplotlib.pyplot as plt\n",
    "import numpy as np"
   ]
  },
  {
   "cell_type": "markdown",
   "metadata": {},
   "source": [
    "> La méthode `plt.bar` permet de tracer des diagrammes en barres, verticaux avec une seule ou plusieurs séries de valeurs : Pour afficher un bar plot il suffit d'entrer dans la méthode en premier argument les positions de début de chaque barre sur l'axe des $x$, et en second argument les hauteurs des barres.\n",
    ">\n",
    "> Les paramètres supplémentaires les plus importants sont la couleur à l'intérieur des barres (`color`) et la largeur relative de chaque barre (`width`, par défaut $0.8$, c'est-à-dire $20$% d'espace vide entre chaque barre).\n",
    ">\n",
    "> Exemple : Création d'un bar plot :\n",
    ">\n",
    "> `{plt.bar(range(4), [2, 3, 4, 5] , color = 'yellow', width = 0.6)`\n",
    ">\n",
    "> Comme toutes les fonctions de pyplot il existe beaucoup d'autres paramètres comme :\n",
    "- `edgecolor` : la couleur des encadrements.\n",
    "- `linewidth` : l'épaisseur des traits.\n",
    "- `yerr` : les valeurs des barres d'erreur.\n",
    "- `ecolor` : la couleur des barres d'erreur.\n",
    "- `orientation` : `horizontal` pour afficher un barplot horizontal.\n",
    "- `hatch` : les hachures. Valeurs possibles : `'/', '\\', '|', '-', '+', 'x', 'o', 'O', '.', '*'`.\n",
    "\n",
    "- Créer un bar plot avec les abscisses de $0$ à $6$ et les hauteurs $[3,4,5,6,5,4,3]$, d'épaisseur $0.6$ et de couleur bleue"
   ]
  },
  {
   "cell_type": "code",
   "execution_count": 3,
   "metadata": {},
   "outputs": [
    {
     "data": {
      "image/png": "[encoded data removed]",
      "text/plain": [
       "<Figure size 432x288 with 1 Axes>"
      ]
     },
     "metadata": {
      "needs_background": "light"
     },
     "output_type": "display_data"
    }
   ],
   "source": [
    "plt.bar(range(7), [3,4,5,6,5,4,3], color='blue', width=0.6)\n",
    "plt.show()"
   ]
  },
  {
   "cell_type": "markdown",
   "metadata": {},
   "source": [
    "> Parmi tous les paramètres existants, `yerr` permet d'ajouter des barres d'erreurs aux barres du graphiques. Pour les ajouter il suffit d'entrer dans le paramètre `yerr` la taille des barres d'erreurs que l'on souhaite.\n",
    "> \n",
    "> `ecolor` permet de choisir la couleur de ces barres d'erreurs.\n",
    ">\n",
    "> Exemple : Utilisation des paramètres `yerr` et `ecolor` :\n",
    ">\n",
    "> `plt.bar(range(4), [2, 3, 4, 5] , color = 'yellow', width = 0.6, yerr=[1,2,0.5,2], ecolor='blue')`\n",
    "\n",
    "- Afficher le même bar plot que précédemment, avec des barres d'erreur de taille respectives $[0.5,2,1,3,2,0.5,1]$"
   ]
  },
  {
   "cell_type": "code",
   "execution_count": 4,
   "metadata": {},
   "outputs": [
    {
     "data": {
      "image/png": "[encoded data removed]",
      "text/plain": [
       "<Figure size 432x288 with 1 Axes>"
      ]
     },
     "metadata": {
      "needs_background": "light"
     },
     "output_type": "display_data"
    }
   ],
   "source": [
    "plt.bar(range(7), [3,4,5,6,5,4,3], yerr=[0.5, 2, 1, 3, 2, 0.5, 1], color='blue', width=0.6)\n",
    "plt.show()"
   ]
  },
  {
   "cell_type": "markdown",
   "metadata": {},
   "source": [
    "> Il est possible d'afficher plusieurs diagrammes sur le même graphique, en faisant appel à autant de commandes `plt.bar` les unes à la suite des autres. Cependant, par défaut, la couleur sera la même, et il faut la modifier manuellement pour les différencier.\n",
    ">\n",
    "> Comme pour la méthode `plot` il est possible de donner un label à un plot bar en le précisant en argument, pour pourvoir afficher les légendes.\n",
    "\n",
    "- Créer un graphique affichant deux bar plot, un bleu et un vert, labellisés `Exemple 1` et `Exemple 2` avec pour arguments respectifs les listes $[1,3,5,7,9],[5,2,7,8,2]$ et $[2,4,6,8,10],[8,6,2,5,6]$\n",
    "- Donner à l'axe des abscisses le label `Numéro`, et à l'axe des ordonnées le label `Hauteur`\n",
    "- Afficher les légendes et donner au graphique le titre `Mon graphique en barres`"
   ]
  },
  {
   "cell_type": "code",
   "execution_count": 5,
   "metadata": {},
   "outputs": [
    {
     "data": {
      "image/png": "[encoded data removed]",
      "text/plain": [
       "<Figure size 432x288 with 1 Axes>"
      ]
     },
     "metadata": {
      "needs_background": "light"
     },
     "output_type": "display_data"
    }
   ],
   "source": [
    "plt.bar([1,3,5,7,9],  [5,2,7,8,2], color='blue', label='Exemple 1')\n",
    "plt.bar([2,4,6,8,10], [8,6,2,5,6], color='green', label='Exemple 2')\n",
    "plt.title('Mon graphique en barres')\n",
    "plt.xlabel('Numéro')\n",
    "plt.ylabel('Hauteur')\n",
    "plt.legend()\n",
    "\n",
    "plt.show()"
   ]
  },
  {
   "cell_type": "markdown",
   "metadata": {},
   "source": [
    "> Il est possible, avec tout graphique, de modifier les graduations des axes grâce aux méthodes `xticks` et `yticks`.\n",
    ">\n",
    "> Exemple : Utilisation de la commande `xticks` :\n",
    ">\n",
    ">\n",
    "La commande plt.xticks([1,2,3], ['un', 'deux', 'trois']) remplace les graduations de l'axe des abscisses par les trois graduations 'un', 'deux', 'trois'.\n",
    "\n",
    "Créer une variable appelée barWidth qui vaut 0.4\n",
    "Créer une liste x1 des chiffres de 0 à 7\n",
    "Créer une liste x2 dont les éléments sont les éléments de x1 additionnés de barWidth\n",
    "Créer les listes y1 et y2 suivantes: [75, 95, 108, 128, 137, 158, 179, 204] ; [86, 99, 103, 136, 135, 146, 171, 215]\n",
    "Créer dans la même figure, 2 bar plots (bleus et rouges), d'arguments respectifs (x1, y1) et(x2, y2), et d'épaisseur barWidth\n",
    "Remplacer les graduations de l'axe des abscisses par [A', 'B', 'C', 'D', 'E', 'F', 'G', 'H']"
   ]
  }
 ],
 "metadata": {
  "kernelspec": {
   "display_name": "Python 3",
   "language": "python",
   "name": "python3"
  },
  "language_info": {
   "codemirror_mode": {
    "name": "ipython",
    "version": 3
   },
   "file_extension": ".py",
   "mimetype": "text/x-python",
   "name": "python",
   "nbconvert_exporter": "python",
   "pygments_lexer": "ipython3",
   "version": "3.6.8"
  }
 },
 "nbformat": 4,
 "nbformat_minor": 2
}
