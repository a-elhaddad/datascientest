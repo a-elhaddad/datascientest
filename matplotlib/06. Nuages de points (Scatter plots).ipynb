{
 "cells": [
  {
   "cell_type": "markdown",
   "metadata": {},
   "source": [
    "# Nuages de points (Scatter plots)"
   ]
  },
  {
   "cell_type": "code",
   "execution_count": 1,
   "metadata": {},
   "outputs": [],
   "source": [
    "%matplotlib inline\n",
    "import matplotlib.pyplot as plt\n",
    "import numpy as np"
   ]
  },
  {
   "cell_type": "markdown",
   "metadata": {},
   "source": [
    "> La méthode `scatter` permet de tracer des nuages de points, elle s'utilise d'une manière similaire à `plot`.\n",
    "> \n",
    "> Exemple : Utilisation de la méthode `scatter`:\n",
    ">\n",
    "> `plt.scatter(range(0,7), [8,7,6,5,6,7,8], color='red', marker= '*', s=40)`"
   ]
  },
  {
   "cell_type": "code",
   "execution_count": 2,
   "metadata": {},
   "outputs": [
    {
     "data": {
      "image/png": "[encoded data removed]",
      "text/plain": [
       "<Figure size 432x288 with 1 Axes>"
      ]
     },
     "metadata": {
      "needs_background": "light"
     },
     "output_type": "display_data"
    }
   ],
   "source": [
    "plt.scatter(range(0,7), [8,7,6,5,6,7,8], color='red', marker= '*', s=40);"
   ]
  },
  {
   "cell_type": "markdown",
   "metadata": {},
   "source": [
    "- Créer la listes `x` des abscisses de 1 à 5, puis les listes `y1` et `y2` suivantes: `[0,2, 3, 8, 15]`, `[5, 8, 11, 16, 22]`.\n",
    "- Représenter les points de coordonnées `x` et `y1` en jaune et de tailles croissantes: 30, 60, 90, 120, et 150.\n",
    "- Représenter les points de coordonnées `x` et `y2`, de taille 40 et de couleurs: jaune, orange, rouge, rose, violet."
   ]
  },
  {
   "cell_type": "code",
   "execution_count": 3,
   "metadata": {},
   "outputs": [
    {
     "data": {
      "image/png": "[encoded data removed]",
      "text/plain": [
       "<Figure size 432x288 with 1 Axes>"
      ]
     },
     "metadata": {
      "needs_background": "light"
     },
     "output_type": "display_data"
    }
   ],
   "source": [
    "x = range(1,6)\n",
    "y1 = [0,2, 3, 8, 15]\n",
    "y2 = [5, 8, 11, 16, 22]\n",
    "plt.scatter(x,y1, c='yellow', s=[30, 60, 90, 120, 150])\n",
    "plt.scatter(x,y2, s=40, c=['yellow', 'orange', 'red', 'pink', 'purple'])\n",
    "plt.show()"
   ]
  }
 ],
 "metadata": {
  "kernelspec": {
   "display_name": "Python 3",
   "language": "python",
   "name": "python3"
  },
  "language_info": {
   "codemirror_mode": {
    "name": "ipython",
    "version": 3
   },
   "file_extension": ".py",
   "mimetype": "text/x-python",
   "name": "python",
   "nbconvert_exporter": "python",
   "pygments_lexer": "ipython3",
   "version": "3.6.8"
  }
 },
 "nbformat": 4,
 "nbformat_minor": 2
}
