{
 "cells": [
  {
   "cell_type": "markdown",
   "metadata": {},
   "source": [
    "# Nettoyage de Données et Gestion des NaNs"
   ]
  },
  {
   "cell_type": "markdown",
   "metadata": {},
   "source": [
    "> La plupart du temps, après avoir importé des données, un certain travail est nécessaire avant de pouvoir les rendre facilement exploitable. Ce travail inclut essentiellement la mise en forme de certaines colonnes et la gestion des valeurs manquantes.\n",
    ">\n",
    "> Dans ce notebook, vous apprendrez à nettoyer les données pour obtenir un DataFrame propre et facilement exploitable.\n",
    "\n",
    "- Importer le package `pandas` sous l'abréviation `pd`.\n",
    "- Lire le fichier `titanic_train.csv`, en précisant d'utiliser la première colonne comme index."
   ]
  },
  {
   "cell_type": "code",
   "execution_count": 1,
   "metadata": {},
   "outputs": [],
   "source": [
    "# Importation du module\n",
    "import pandas as pd\n",
    "\n",
    "# Chargement de la base titanic et indexation\n",
    "titanic = pd.read_csv('titanic_train.csv', sep =',', index_col = 0)"
   ]
  },
  {
   "cell_type": "markdown",
   "metadata": {},
   "source": [
    "> Certaines variables nécessitent parfois quelques opérations avant d'être exploitables. Nous verrons plus bas comment gérer les valeurs manquantes, mais pour l'instant, intéressons-nous au nettoyage d'une variable.\n",
    ">\n",
    "> La méthode `replace()` permet de remplacer et renommer les différentes modalités d'une variable. Par exemple si une variable est stockée avec les modalités `'one'`, `'two'`, alors l'appel suivant permettra de mieux traiter la variable en lui assignant les valeurs numériques 1 et 2.\n",
    ">\n",
    "> Exemple : `mon_df['var'] = mon_df['var'].replace(['one','two'],[1,2])`.\n",
    ">\n",
    "> Il est parfois nécessaire de modifier le type d'une variable. Par exemple, il arrive qu'une variable de type objet, même renommée, reste de type objet, il faut alors modifier son type si l'on veut qu'elle se comporte de la même façon qu'une variable numérique. Cela est possible grâce à la méthode `astype`.\n",
    ">\n",
    "> Exemple : `mon_df['var'] = mon_df['var'].astype(float)`.\n",
    ">\n",
    "> Certaines colonnes ont des noms trop longs ou compliqués et peuvent être sources d'erreurs, il est alors judicieux de les renommer, par le biais de la méthode `rename`.\n",
    ">\n",
    "> Exemple : `mon_df.rename(columns={'old_name': 'new_name'})`.\n",
    ">\n",
    "> Attention. Ces méthodes (`rename()`, `replace()`, `astype()`) ne transforment pas les DataFrame auxquels elles s'appliquent mais créent simplement un nouvel objet. Elles nécessitent une réassignation de l'objet si l'on souhaite garder le nom de l'objet initial. Pour modifier directement un DataFrame, certaines méthodes acceptent l'utilisation de l'argument `inplace=True`. C'est le cas de `rename()` et replace`()`, mais pas de `astype()`.\n",
    ">\n",
    "> L'argument `inplace=True`. permet d'éviter de créer une copie de notre DataFrame. Il est donc optimal en mémoire et en temps de calcul, mais il faut être très prudent dans son utilisation puisqu'il modifie directement la base et peut entraîner des pertes.\n",
    ">\n",
    "> Dans une copie de `titanic` que nous appellerons `titanic_numeric`, effectuer les opérations suivantes:\n",
    "\n",
    "- Renomer la variable `Embarked` en `EmbNum`.\n",
    "- Remplacer les modalités `['S','C','Q']` de `EmbNum` par le triplet `[0,1,2]`, en vous assurant que la variable soit de type `float`.\n",
    "- Faire apparaître la moyenne obtenue pour cette variable."
   ]
  },
  {
   "cell_type": "code",
   "execution_count": 2,
   "metadata": {},
   "outputs": [
    {
     "name": "stdout",
     "output_type": "stream",
     "text": [
      "Moyenne pour la variable EmbNum: 0.362.\n"
     ]
    }
   ],
   "source": [
    "titanic_numeric = titanic.rename(columns={'Embarked': 'EmbNum'})\n",
    "titanic_numeric['EmbNum'] = titanic_numeric['EmbNum'].replace(['S', 'C', 'Q'], [0,1,2])\n",
    "print('Moyenne pour la variable EmbNum: %0.3f.' %titanic_numeric['EmbNum'].mean())"
   ]
  },
  {
   "cell_type": "markdown",
   "metadata": {},
   "source": [
    "- Modifier les valeurs de la variable `Survived` de `titanic`, telle que `0` devienne `'No'` et `1` devienne `'Yes'`.\n",
    "- Afficher le nombre de survivants et de non survivants, soit le nombre d'occurences pour chaque valeur unique dans la variable `Survived`."
   ]
  },
  {
   "cell_type": "code",
   "execution_count": 3,
   "metadata": {},
   "outputs": [
    {
     "data": {
      "text/plain": [
       "No     549\n",
       "Yes    342\n",
       "Name: Survived, dtype: int64"
      ]
     },
     "execution_count": 3,
     "metadata": {},
     "output_type": "execute_result"
    }
   ],
   "source": [
    "titanic['Survived'].replace([0, 1], ['No', 'Yes'], inplace=True)\n",
    "titanic['Survived'].value_counts()"
   ]
  },
  {
   "cell_type": "markdown",
   "metadata": {},
   "source": [
    "> Il est souvent intéressant d'effectuer des opérations, parfois compliquées, sur l'ensemble des colonnes/lignes d'un DataFrame. Pour cela, la structure DataFrame de pandas est équipée d'une méthode très utile, nommée `apply(func, axis)`, qui s'utilise de différentes façons .\n",
    ">\n",
    "> Exemple 1 : `mon_df.apply(sum, axis = 1)` affiche la somme des éléments de chaque ligne de `df`.\n",
    ">\n",
    "> Exemple 2 : `mon_df.apply(max, axis = 0)` affiche l'élément maximum de chaque colonne de `df`.\n",
    ">\n",
    "> Ces exemples fonctionnent, mais peuvent être obtenus directement grâce aux méthodes associées. La fonction `apply()` est souvent beaucoup plus utile lorsqu'elle est associée à une fonction `lambda`.\n",
    ">\n",
    "> Il y a deux façons principales de définir une fonction en Python:\n",
    ">\n",
    "> 1. La manière classique grâce à l'instruction `def`. Exemple:\n",
    "```\n",
    "def increment(x): \n",
    "    return x+1\n",
    "```\n",
    ">\n",
    "> 2. L'utilisation de l'instruction `lambda`. Exemple:\n",
    "```\n",
    "increment = lambda x: x+1\n",
    "```\n",
    ">\n",
    "> La première est très propre mais l'avantage de la seconde est de pouvoir être définie directement au sein d'une autre expression sans définition préalable. Il suffit, pour définir une fonction au sein d'une méthode ou autre fonction par exemple, d'écrire `lambda x: f(x)` où `f(x)` correspond à nimporte quelle opération transformant `x`.\n",
    ">\n",
    "> Exemple 3 : `mon_df.apply(lambda x: max(x) - min(x))` renvoie la différence entre le max et le min pour chaque colonne de `df`.\n",
    "> \n",
    "> Exemple 4 : `titanic['Sex'].apply(lambda x: x[:1])` renvoie la 1ère lettre de chaque élément de la variable `Sex`, soit la même variable avec les modalités `['f','m']`.\n",
    "\n",
    "- Sachant que la fonction `round(x,i)` renvoie l'élément `x` arrondi à `i` chiffres après la virgule (par défaut 0), afficher les 5 premières valeurs de la variable `Fare` arrondies aux dixièmes."
   ]
  },
  {
   "cell_type": "code",
   "execution_count": 4,
   "metadata": {},
   "outputs": [
    {
     "data": {
      "text/plain": [
       "PassengerId\n",
       "1     7.2\n",
       "2    71.3\n",
       "3     7.9\n",
       "4    53.1\n",
       "5     8.1\n",
       "Name: Fare, dtype: float64"
      ]
     },
     "execution_count": 4,
     "metadata": {},
     "output_type": "execute_result"
    }
   ],
   "source": [
    "titanic['Fare'].apply(lambda x: round(x,1)).head()"
   ]
  },
  {
   "cell_type": "markdown",
   "metadata": {},
   "source": [
    "> Une méthode également très souvent utilisée et qui est intégrée dans la structure DataFrame est la méthode `rolling`. Cette méthode permet de faire des moyennes mobiles, des sommes mobiles ou toute opération qui utilise les lignes précédentes d'un DataFrame.\n",
    ">\n",
    "> `rolling` retourne une structure agrégeant un nombre de lignes donné et ne renvoie un résultat que si on lui applique une méthode telle que `sum` ou `mean`.\n",
    ">\n",
    "> Exemple : `mon_df['var'].rolling(5).sum()` renvoie la somme mobile sur 5 éléments \n",
    "\n",
    "- Afficher les moyennes mobiles sur 10 éléments de la variable `Age` de titanic."
   ]
  },
  {
   "cell_type": "code",
   "execution_count": 5,
   "metadata": {},
   "outputs": [
    {
     "data": {
      "text/plain": [
       "PassengerId\n",
       "1     NaN\n",
       "2     NaN\n",
       "3     NaN\n",
       "4     NaN\n",
       "5     NaN\n",
       "       ..\n",
       "887   NaN\n",
       "888   NaN\n",
       "889   NaN\n",
       "890   NaN\n",
       "891   NaN\n",
       "Name: Age, Length: 891, dtype: float64"
      ]
     },
     "execution_count": 5,
     "metadata": {},
     "output_type": "execute_result"
    }
   ],
   "source": [
    "titanic.Age.rolling(10).mean()"
   ]
  },
  {
   "cell_type": "markdown",
   "metadata": {},
   "source": [
    "> On remarque alors que les moyennes obtenues contiennent énormément de `NaN` (Not a Number, ou valeurs manquantes). Ceci est dû au fait que sur des fenêtres de 10 éléments, souvent au moins une valeur est manquante, et donc le calcul est impossible. Le problème peut être résolu à l'aide du paramètre `min_periods` afin de choisir un nombre minimum de valeurs non manquantes pour effectuer le calcul, mais beaucoup d'autres problèmes peuvent être causés dans le futur si l'on ne gère pas les NaN d'une meilleure façon.\n",
    ">\n",
    "> Il est courant d'avoir des valeurs manquantes dans un jeu de données. Pandas contient quelques fonctions et méthodes très utiles pour gérer ces valeurs manquantes.\n",
    ">\n",
    "> La fonction `isnull()` du module pandas permet de détecter si des valeurs manquantes sont présentes. Elle prend en argument un tableau et retourne un nouveau tableau avec les variables booléennes: `True` si la case du tableau originale est vide, `False` sinon. Une méthode du même nom existe pour les DataFrames et Series.\n",
    "> \n",
    "> Il est courant d'ajouter à `isnull()` d'autres méthodes pour plus de clarté.\n",
    ">\n",
    "> La méthode `any()` par exemple, retourne `True` si au moins un élément d'un dataframe vaut `True`, et `False` sinon.\n",
    ">\n",
    "> Exemple : Pour savoir si au moins un élément est manquant dans le data frame, on utilise `pd.isnull(df).any()` ou `df.isnull().any()`.\n",
    "\n",
    "- Appliquez la fonction `isnull()` à titanic et lui ajouter la méthode `sum()` pour connaître le nombre exact de valeurs manquantes pour chaque colonne du DataFrame."
   ]
  },
  {
   "cell_type": "code",
   "execution_count": 6,
   "metadata": {},
   "outputs": [
    {
     "data": {
      "text/plain": [
       "Survived      0\n",
       "Pclass        0\n",
       "Name          0\n",
       "Sex           0\n",
       "Age         177\n",
       "SibSp         0\n",
       "Parch         0\n",
       "Ticket        0\n",
       "Fare          0\n",
       "Cabin       687\n",
       "Embarked      2\n",
       "dtype: int64"
      ]
     },
     "execution_count": 6,
     "metadata": {},
     "output_type": "execute_result"
    }
   ],
   "source": [
    "titanic.isnull().sum()"
   ]
  },
  {
   "cell_type": "markdown",
   "metadata": {},
   "source": [
    "> 1. La méthode `fillna()` permet de remplacer les valeurs manquantes d'un data frame par la ou les valeurs de votre choix.\n",
    ">\n",
    ">  Exemples :\n",
    ">  - `df.fillna(0)` remplace toutes les valeurs manquantes par des zéros.\n",
    ">  - `df.fillna(df.mean())` remplace les valeurs manquantes de chaque colonne par la moyenne sur cette colonne\n",
    "> \n",
    "> 2. La méthode `dropna()` permet de supprimer les lignes ou colonnes contenant des valeurs manquantes. Les paramètres `how` et `axis` permettent de préciser de quelle façon et sur quel axe les éléments seront supprimés. Le paramètre `subset` permet de préciser la liste des colonnes/lignes sur lequelles effectuer la recherche de NaN.\n",
    ">\n",
    ">  Exemples :\n",
    ">  - `df.dropna(how = 'any')` supprime toutes les lignes contenant au moins un NA.\n",
    ">  - `df.dropna(how = 'all', subset = ['col2','col3','col4'])` supprime les lignes vides sur les 3 colonnes mentionnées.\n",
    ">  - `df.dropna(axis = 1, how = 'all')` supprime les colonnes complètement vides (par défaut axis=0).\n",
    ">\n",
    "> 3. La méthode `drop()` permet de supprimer les lignes ou colonnes d'un tableau. A l'inverse on utilise `append()` pour ajouter une ou plusieurs lignes.\n",
    ">\n",
    ">  Exemples :\n",
    ">  - `df.drop(0)` supprime la première ligne.\n",
    ">  - `df.drop('Name', axis=1)` supprime la colonne `Name` (par défaut axis=0).\n",
    ">\n",
    "> Attention : Ces méthodes (`fillna`, `dropna`, `drop`) ne transforment pas le DataFrame en question mais créent simplement un nouvel objet. Pour modifier directement notre DataFrame, on peut utiliser une réassignation ou l'argument `inplace=True`.\n",
    ">\n",
    "> On remarque que la variable `Cabin` contient essentiellement des valeurs manquantes ce qui la rend dificile à utiliser pour une analyse. On peut donc faire le choix de la supprimer.\n",
    "\n",
    "- Créer a partir de `titanic` un nouveau dataframe `titanic_new` dans lequel la colonne `Cabin` est supprimée."
   ]
  },
  {
   "cell_type": "code",
   "execution_count": 7,
   "metadata": {},
   "outputs": [
    {
     "data": {
      "text/html": [
       "<div>\n",
       "<style scoped>\n",
       "    .dataframe tbody tr th:only-of-type {\n",
       "        vertical-align: middle;\n",
       "    }\n",
       "\n",
       "    .dataframe tbody tr th {\n",
       "        vertical-align: top;\n",
       "    }\n",
       "\n",
       "    .dataframe thead th {\n",
       "        text-align: right;\n",
       "    }\n",
       "</style>\n",
       "<table border=\"1\" class=\"dataframe\">\n",
       "  <thead>\n",
       "    <tr style=\"text-align: right;\">\n",
       "      <th></th>\n",
       "      <th>Survived</th>\n",
       "      <th>Pclass</th>\n",
       "      <th>Name</th>\n",
       "      <th>Sex</th>\n",
       "      <th>Age</th>\n",
       "      <th>SibSp</th>\n",
       "      <th>Parch</th>\n",
       "      <th>Ticket</th>\n",
       "      <th>Fare</th>\n",
       "      <th>Embarked</th>\n",
       "    </tr>\n",
       "    <tr>\n",
       "      <th>PassengerId</th>\n",
       "      <th></th>\n",
       "      <th></th>\n",
       "      <th></th>\n",
       "      <th></th>\n",
       "      <th></th>\n",
       "      <th></th>\n",
       "      <th></th>\n",
       "      <th></th>\n",
       "      <th></th>\n",
       "      <th></th>\n",
       "    </tr>\n",
       "  </thead>\n",
       "  <tbody>\n",
       "    <tr>\n",
       "      <th>1</th>\n",
       "      <td>No</td>\n",
       "      <td>3</td>\n",
       "      <td>Braund, Mr. Owen Harris</td>\n",
       "      <td>male</td>\n",
       "      <td>22.0</td>\n",
       "      <td>1</td>\n",
       "      <td>0</td>\n",
       "      <td>A/5 21171</td>\n",
       "      <td>7.2500</td>\n",
       "      <td>S</td>\n",
       "    </tr>\n",
       "    <tr>\n",
       "      <th>2</th>\n",
       "      <td>Yes</td>\n",
       "      <td>1</td>\n",
       "      <td>Cumings, Mrs. John Bradley (Florence Briggs Th...</td>\n",
       "      <td>female</td>\n",
       "      <td>38.0</td>\n",
       "      <td>1</td>\n",
       "      <td>0</td>\n",
       "      <td>PC 17599</td>\n",
       "      <td>71.2833</td>\n",
       "      <td>C</td>\n",
       "    </tr>\n",
       "    <tr>\n",
       "      <th>3</th>\n",
       "      <td>Yes</td>\n",
       "      <td>3</td>\n",
       "      <td>Heikkinen, Miss. Laina</td>\n",
       "      <td>female</td>\n",
       "      <td>26.0</td>\n",
       "      <td>0</td>\n",
       "      <td>0</td>\n",
       "      <td>STON/O2. 3101282</td>\n",
       "      <td>7.9250</td>\n",
       "      <td>S</td>\n",
       "    </tr>\n",
       "    <tr>\n",
       "      <th>4</th>\n",
       "      <td>Yes</td>\n",
       "      <td>1</td>\n",
       "      <td>Futrelle, Mrs. Jacques Heath (Lily May Peel)</td>\n",
       "      <td>female</td>\n",
       "      <td>35.0</td>\n",
       "      <td>1</td>\n",
       "      <td>0</td>\n",
       "      <td>113803</td>\n",
       "      <td>53.1000</td>\n",
       "      <td>S</td>\n",
       "    </tr>\n",
       "    <tr>\n",
       "      <th>5</th>\n",
       "      <td>No</td>\n",
       "      <td>3</td>\n",
       "      <td>Allen, Mr. William Henry</td>\n",
       "      <td>male</td>\n",
       "      <td>35.0</td>\n",
       "      <td>0</td>\n",
       "      <td>0</td>\n",
       "      <td>373450</td>\n",
       "      <td>8.0500</td>\n",
       "      <td>S</td>\n",
       "    </tr>\n",
       "  </tbody>\n",
       "</table>\n",
       "</div>"
      ],
      "text/plain": [
       "            Survived  Pclass  \\\n",
       "PassengerId                    \n",
       "1                 No       3   \n",
       "2                Yes       1   \n",
       "3                Yes       3   \n",
       "4                Yes       1   \n",
       "5                 No       3   \n",
       "\n",
       "                                                          Name     Sex   Age  \\\n",
       "PassengerId                                                                    \n",
       "1                                      Braund, Mr. Owen Harris    male  22.0   \n",
       "2            Cumings, Mrs. John Bradley (Florence Briggs Th...  female  38.0   \n",
       "3                                       Heikkinen, Miss. Laina  female  26.0   \n",
       "4                 Futrelle, Mrs. Jacques Heath (Lily May Peel)  female  35.0   \n",
       "5                                     Allen, Mr. William Henry    male  35.0   \n",
       "\n",
       "             SibSp  Parch            Ticket     Fare Embarked  \n",
       "PassengerId                                                    \n",
       "1                1      0         A/5 21171   7.2500        S  \n",
       "2                1      0          PC 17599  71.2833        C  \n",
       "3                0      0  STON/O2. 3101282   7.9250        S  \n",
       "4                1      0            113803  53.1000        S  \n",
       "5                0      0            373450   8.0500        S  "
      ]
     },
     "execution_count": 7,
     "metadata": {},
     "output_type": "execute_result"
    }
   ],
   "source": [
    "titanic.drop('Cabin', axis=1, inplace=True)\n",
    "titanic.head()"
   ]
  },
  {
   "cell_type": "markdown",
   "metadata": {},
   "source": [
    "> La variable `Age` est plus problématique car la suppression des lignes contenant des valeurs manquantes ou bien même la suppression de la colonne entraîneraient une perte importante d'informations pertinentes.\n",
    "\n",
    "- Remplacer dans `titanic_new` les valeurs manquantes de la variable `Age` par l'âge moyen arrondi à l'unité."
   ]
  },
  {
   "cell_type": "code",
   "execution_count": 8,
   "metadata": {},
   "outputs": [
    {
     "data": {
      "text/html": [
       "<div>\n",
       "<style scoped>\n",
       "    .dataframe tbody tr th:only-of-type {\n",
       "        vertical-align: middle;\n",
       "    }\n",
       "\n",
       "    .dataframe tbody tr th {\n",
       "        vertical-align: top;\n",
       "    }\n",
       "\n",
       "    .dataframe thead th {\n",
       "        text-align: right;\n",
       "    }\n",
       "</style>\n",
       "<table border=\"1\" class=\"dataframe\">\n",
       "  <thead>\n",
       "    <tr style=\"text-align: right;\">\n",
       "      <th></th>\n",
       "      <th>Survived</th>\n",
       "      <th>Pclass</th>\n",
       "      <th>Name</th>\n",
       "      <th>Sex</th>\n",
       "      <th>Age</th>\n",
       "      <th>SibSp</th>\n",
       "      <th>Parch</th>\n",
       "      <th>Ticket</th>\n",
       "      <th>Fare</th>\n",
       "      <th>Embarked</th>\n",
       "    </tr>\n",
       "    <tr>\n",
       "      <th>PassengerId</th>\n",
       "      <th></th>\n",
       "      <th></th>\n",
       "      <th></th>\n",
       "      <th></th>\n",
       "      <th></th>\n",
       "      <th></th>\n",
       "      <th></th>\n",
       "      <th></th>\n",
       "      <th></th>\n",
       "      <th></th>\n",
       "    </tr>\n",
       "  </thead>\n",
       "  <tbody>\n",
       "    <tr>\n",
       "      <th>1</th>\n",
       "      <td>No</td>\n",
       "      <td>3</td>\n",
       "      <td>Braund, Mr. Owen Harris</td>\n",
       "      <td>male</td>\n",
       "      <td>22.0</td>\n",
       "      <td>1</td>\n",
       "      <td>0</td>\n",
       "      <td>A/5 21171</td>\n",
       "      <td>7.2500</td>\n",
       "      <td>S</td>\n",
       "    </tr>\n",
       "    <tr>\n",
       "      <th>2</th>\n",
       "      <td>Yes</td>\n",
       "      <td>1</td>\n",
       "      <td>Cumings, Mrs. John Bradley (Florence Briggs Th...</td>\n",
       "      <td>female</td>\n",
       "      <td>38.0</td>\n",
       "      <td>1</td>\n",
       "      <td>0</td>\n",
       "      <td>PC 17599</td>\n",
       "      <td>71.2833</td>\n",
       "      <td>C</td>\n",
       "    </tr>\n",
       "    <tr>\n",
       "      <th>3</th>\n",
       "      <td>Yes</td>\n",
       "      <td>3</td>\n",
       "      <td>Heikkinen, Miss. Laina</td>\n",
       "      <td>female</td>\n",
       "      <td>26.0</td>\n",
       "      <td>0</td>\n",
       "      <td>0</td>\n",
       "      <td>STON/O2. 3101282</td>\n",
       "      <td>7.9250</td>\n",
       "      <td>S</td>\n",
       "    </tr>\n",
       "    <tr>\n",
       "      <th>4</th>\n",
       "      <td>Yes</td>\n",
       "      <td>1</td>\n",
       "      <td>Futrelle, Mrs. Jacques Heath (Lily May Peel)</td>\n",
       "      <td>female</td>\n",
       "      <td>35.0</td>\n",
       "      <td>1</td>\n",
       "      <td>0</td>\n",
       "      <td>113803</td>\n",
       "      <td>53.1000</td>\n",
       "      <td>S</td>\n",
       "    </tr>\n",
       "    <tr>\n",
       "      <th>5</th>\n",
       "      <td>No</td>\n",
       "      <td>3</td>\n",
       "      <td>Allen, Mr. William Henry</td>\n",
       "      <td>male</td>\n",
       "      <td>35.0</td>\n",
       "      <td>0</td>\n",
       "      <td>0</td>\n",
       "      <td>373450</td>\n",
       "      <td>8.0500</td>\n",
       "      <td>S</td>\n",
       "    </tr>\n",
       "  </tbody>\n",
       "</table>\n",
       "</div>"
      ],
      "text/plain": [
       "            Survived  Pclass  \\\n",
       "PassengerId                    \n",
       "1                 No       3   \n",
       "2                Yes       1   \n",
       "3                Yes       3   \n",
       "4                Yes       1   \n",
       "5                 No       3   \n",
       "\n",
       "                                                          Name     Sex   Age  \\\n",
       "PassengerId                                                                    \n",
       "1                                      Braund, Mr. Owen Harris    male  22.0   \n",
       "2            Cumings, Mrs. John Bradley (Florence Briggs Th...  female  38.0   \n",
       "3                                       Heikkinen, Miss. Laina  female  26.0   \n",
       "4                 Futrelle, Mrs. Jacques Heath (Lily May Peel)  female  35.0   \n",
       "5                                     Allen, Mr. William Henry    male  35.0   \n",
       "\n",
       "             SibSp  Parch            Ticket     Fare Embarked  \n",
       "PassengerId                                                    \n",
       "1                1      0         A/5 21171   7.2500        S  \n",
       "2                1      0          PC 17599  71.2833        C  \n",
       "3                0      0  STON/O2. 3101282   7.9250        S  \n",
       "4                1      0            113803  53.1000        S  \n",
       "5                0      0            373450   8.0500        S  "
      ]
     },
     "execution_count": 8,
     "metadata": {},
     "output_type": "execute_result"
    }
   ],
   "source": [
    "titanic['Age'] = titanic['Age'].fillna(titanic['Age'].mean()).round(1)\n",
    "titanic.head()"
   ]
  },
  {
   "cell_type": "markdown",
   "metadata": {},
   "source": [
    "> La variable `Embarked` ne contient que deux variables manquantes.\n",
    "\n",
    "- Supprimer les lignes de `titanic_new` qui contiennent des valeurs manquantes pour la variable `Embarked`.\n",
    "- Vérifier que `titanic_new` ne contient plus de valeurs manquantes"
   ]
  },
  {
   "cell_type": "code",
   "execution_count": 9,
   "metadata": {},
   "outputs": [
    {
     "data": {
      "text/plain": [
       "Survived    0\n",
       "Pclass      0\n",
       "Name        0\n",
       "Sex         0\n",
       "Age         0\n",
       "SibSp       0\n",
       "Parch       0\n",
       "Ticket      0\n",
       "Fare        0\n",
       "Embarked    0\n",
       "dtype: int64"
      ]
     },
     "execution_count": 9,
     "metadata": {},
     "output_type": "execute_result"
    }
   ],
   "source": [
    "titanic.dropna(how='any', subset=['Embarked'], inplace=True)\n",
    "titanic.isnull().sum()"
   ]
  }
 ],
 "metadata": {
  "kernelspec": {
   "display_name": "Python 3",
   "language": "python",
   "name": "python3"
  },
  "language_info": {
   "codemirror_mode": {
    "name": "ipython",
    "version": 3
   },
   "file_extension": ".py",
   "mimetype": "text/x-python",
   "name": "python",
   "nbconvert_exporter": "python",
   "pygments_lexer": "ipython3",
   "version": "3.6.8"
  }
 },
 "nbformat": 4,
 "nbformat_minor": 2
}
