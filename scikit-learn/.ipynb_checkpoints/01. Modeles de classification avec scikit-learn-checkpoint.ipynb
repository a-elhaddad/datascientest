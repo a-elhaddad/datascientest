{
 "cells": [
  {
   "cell_type": "markdown",
   "metadata": {},
   "source": [
    "# Modèles de classification avec scikit-learn\n",
    "\n",
    "### Apprentissage supervisé\n",
    "> L'apprentissage supervisé (Supervised Learning en anglais) est une technique d'apprentissage automatique où l'on cherche à produire automatiquement des règles qui ne sont pas définies a priori, à partir d'une base de données d'apprentissage contenant des exemples.\n",
    ">\n",
    "> L'objectif principal de l'apprentissage supervisé est de construire et d'entraîner un modèle statistique afin de prédire une ou plusieurs données de sortie, usuellement appelées \"labels\", en se basant sur les données d'entrées, usuellement appelées \"features\".\n",
    "\n",
    "### Types d'apprentissage supervisé\n",
    "> Il existe deux grands types de tâches en apprentissage supervisé :\n",
    ">\n",
    "> - La **régression** est la prédiction d'une variable quantitative ou continue à partir de variables explicatives. Par exemple : estimer le loyer d'un appartement à partir de sa surface, sa localisation, son exposition etc.\n",
    ">\n",
    "> - La **classification** a pour objectif d'identifier les classes auxquelles appartiennent des objets à partir des traits descriptifs. Il s'agit donc d'une prédiction d'une variable qualitative ou catégorielle. Par exemple : déterminer si un email doit être classé comme clean ou spam à partir d'informations sur le mail, comme l'objet, le corps du texte, la présence de lien hypertexte etc.\n",
    ">\n",
    "> Dans un problème de classification, les labels peuvent être de deux natures :\n",
    ">\n",
    "> - **Ordinales** lorsque les classes sont naturellement ordonnées entre-elles, par exemple la taille si elle est exprimée en catégories petit/moyen/grand, ou l'âge si il est exprimé comme jeune/vieux.\n",
    "> - **Cardinales** ou **nominales**, lorsque les classes ne peuvent être classées selon un ordre. Par exemple : le genre, les couleurs etc."
   ]
  },
  {
   "cell_type": "markdown",
   "metadata": {},
   "source": [
    "> Ce cours détaille la classification en tant que problème d'apprentissage supervisé en utilisant des algorithmes très utilisés par les data scientists, comme :\n",
    ">\n",
    ">- La classification à l'aide de la régression logistique.\n",
    ">- Les séparateurs à vaste marge, en anglais \"Support Vector Machine\" (SVM).\n",
    ">- La méthode des k plus proches voisins, en anglais \"K-Nearest Neighbors\" (KNN).\n",
    ">- Les arbres de décision, en anglais \"Decision Trees\".\n",
    ">- Les forêts aléatoires, en anglais \"Random Forests\"."
   ]
  },
  {
   "cell_type": "markdown",
   "metadata": {},
   "source": [
    "### Mécanisme d'apprentissage\n",
    "> En **apprentissage supervisé**, il faut systématiquement représenter les données sous la forme d'une *feature matrix*, qui stocke les attributs ou les critères permettant de faire la classification, et d'un *label vector*, qui contient les classes correspondantes à chaque échantillon.\n",
    ">\n",
    "> Afin d'avoir une intuition sur la qualité et les performances d'un modèle de classification, il faut au préalable séparer le data set en deux : Le premier set est l'ensemble d'entraînement (*train set*), qui constitue la base d'apprentissage sur laquelle le modèle est entraîné. Le deuxième set est l'ensemble de test, (*test set*), sur lequel la performance du modèle est calculée. Dans les deux cas, les classes correspondant à chaque échantillon sont connues a priori.\n",
    ">\n",
    "> Une fois que l'apprentissage est terminé, il est alors possible d'effectuer une prédiction pour les données présentes dans le test set, et construire une **matrice de confusion** (ou **tableau de contingence**), qui distingue tous les cas de bonnes ou mauvaises classifications pour chaque classe. La plupart des scores et métriques de performance d'un modèle se calculent à partir de cette matrice.\n",
    ">\n",
    "> La matrice de confusion permet d'évaluer le modèle de classification et ainsi de sélectionner les meilleurs modèles et paramètres à utiliser. Dans le cadre d'optimisation des paramètres, plusieurs techniques sont utilisées en data science que nous découvrirons dans la suite de ce cours."
   ]
  },
  {
   "cell_type": "markdown",
   "metadata": {},
   "source": [
    "### Classification en classes multiples\n",
    "> Bien que la plupart des techniques de machine learning concernent des cas de classification binaire, il est possible d'adresser des problèmes \"multi-classes\". En général, un problème multi-classe est décomposé en plusieurs sous-problèmes binaires selon l'une des deux stratégies possibles présentées ci-dessous :\n",
    ">\n",
    "> Un contre tous (one-vs-all) : Les individus d'une classe donnée sont séparés de tous les autres. En d'autres termes, les éléments d'une classe sont comparés avec les autres éléments des autres classes. La classe d'un individu est alors donnée à partir des résultats de chaque sous-modèle de classification binaire.\n",
    ">\n",
    "> Un contre un (one-vs-one) : Dans cette méthode, il existe un modèle de classification pour chaque paire de classe. Autrement dit, les individus de chaque classe k sont comparés avec les individus de chaque autre classe. Le nombre des séparateurs est lorsque le nombre de classe est supérieur à 3, le nombre de sous-modèles est plus grand que celui des séparateurs sur la méthode un contre tous.\n",
    "\n",
    "---\n",
    "\n",
    "![](img/one_vs_all.jpg)\n",
    "\n",
    "---\n",
    "\n",
    "![](img/one_vs_one.jpg)"
   ]
  }
 ],
 "metadata": {
  "kernelspec": {
   "display_name": "Python 3",
   "language": "python",
   "name": "python3"
  },
  "language_info": {
   "codemirror_mode": {
    "name": "ipython",
    "version": 3
   },
   "file_extension": ".py",
   "mimetype": "text/x-python",
   "name": "python",
   "nbconvert_exporter": "python",
   "pygments_lexer": "ipython3",
   "version": "3.7.3"
  }
 },
 "nbformat": 4,
 "nbformat_minor": 2
}
